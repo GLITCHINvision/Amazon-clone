{
  "nbformat": 4,
  "nbformat_minor": 0,
  "metadata": {
    "colab": {
      "provenance": [],
      "authorship_tag": "ABX9TyMrF2LCINn27cdXUmWnN+em",
      "include_colab_link": true
    },
    "kernelspec": {
      "name": "python3",
      "display_name": "Python 3"
    },
    "language_info": {
      "name": "python"
    }
  },
  "cells": [
    {
      "cell_type": "markdown",
      "metadata": {
        "id": "view-in-github",
        "colab_type": "text"
      },
      "source": [
        "<a href=\"https://colab.research.google.com/github/GLITCHINvision/Amazon-clone/blob/master/hidden_markov_model.ipynb\" target=\"_parent\"><img src=\"https://colab.research.google.com/assets/colab-badge.svg\" alt=\"Open In Colab\"/></a>"
      ]
    },
    {
      "cell_type": "code",
      "execution_count": 24,
      "metadata": {
        "colab": {
          "base_uri": "https://localhost:8080/"
        },
        "id": "nuMycI3sQgyq",
        "outputId": "1fd9f753-0321-483a-afff-135391411c2a"
      },
      "outputs": [
        {
          "output_type": "stream",
          "name": "stdout",
          "text": [
            "Requirement already satisfied: hmmlearn in /usr/local/lib/python3.11/dist-packages (0.3.3)\n",
            "Requirement already satisfied: numpy>=1.10 in /usr/local/lib/python3.11/dist-packages (from hmmlearn) (2.0.2)\n",
            "Requirement already satisfied: scikit-learn!=0.22.0,>=0.16 in /usr/local/lib/python3.11/dist-packages (from hmmlearn) (1.6.1)\n",
            "Requirement already satisfied: scipy>=0.19 in /usr/local/lib/python3.11/dist-packages (from hmmlearn) (1.15.3)\n",
            "Requirement already satisfied: joblib>=1.2.0 in /usr/local/lib/python3.11/dist-packages (from scikit-learn!=0.22.0,>=0.16->hmmlearn) (1.5.1)\n",
            "Requirement already satisfied: threadpoolctl>=3.1.0 in /usr/local/lib/python3.11/dist-packages (from scikit-learn!=0.22.0,>=0.16->hmmlearn) (3.6.0)\n"
          ]
        }
      ],
      "source": [
        "\n",
        "# Install hmmlearn\n",
        "!pip install hmmlearn\n",
        "\n"
      ]
    },
    {
      "cell_type": "code",
      "source": [
        "# Import Required Libraries\n",
        "import numpy as np\n",
        "from hmmlearn.hmm import CategoricalHMM\n",
        "\n"
      ],
      "metadata": {
        "id": "6ycy4eprThjs"
      },
      "execution_count": 25,
      "outputs": []
    },
    {
      "cell_type": "code",
      "source": [
        "# Define States and Observations\n",
        "states = [\"Rainy\", \"Sunny\"]\n",
        "n_states = len(states)\n",
        "\n",
        "observations = [\"Walk\", \"Shop\", \"Clean\"]\n",
        "n_observations = len(observations)\n",
        "\n",
        "# Map observations to integers\n",
        "obs_map = {\"Walk\": 0, \"Shop\": 1, \"Clean\": 2}\n",
        "inv_obs_map = {v: k for k, v in obs_map.items()}\n"
      ],
      "metadata": {
        "id": "fBCLtcFQTprR"
      },
      "execution_count": 26,
      "outputs": []
    },
    {
      "cell_type": "markdown",
      "source": [
        "**start_probability:**\n",
        "60% chance it starts Rainy,\n",
        "40% chance it starts Sunny\n",
        "\n",
        "**transition_probability:**\n",
        "Rainy → Rainy: 70%, Rainy → Sunny: 30%,\n",
        "Sunny → Rainy: 40%, Sunny → Sunny: 60%\n",
        "\n",
        "** emission_probability: **\n",
        " If Rainy → 10% Walk, 40% Shop, 50% Clean,\n",
        "If Sunny → 60% Walk, 30% Shop, 10% Clean\n",
        "\n",
        "\n",
        "\n"
      ],
      "metadata": {
        "id": "v1Jd88UXW_o7"
      }
    },
    {
      "cell_type": "code",
      "source": [
        "# Define the Model Parameters\n",
        "start_probability = np.array([0.6, 0.4])\n",
        "\n",
        "transition_probability = np.array([\n",
        "  [0.7, 0.3],\n",
        "  [0.4, 0.6]\n",
        "])\n",
        "\n",
        "emission_probability = np.array([\n",
        "  [0.1, 0.4, 0.5],  # Rainy: Walk, Shop, Clean\n",
        "  [0.6, 0.3, 0.1]   # Sunny: Walk, Shop, Clean\n",
        "])\n",
        "\n"
      ],
      "metadata": {
        "id": "OtKGSQiyTvnr"
      },
      "execution_count": 27,
      "outputs": []
    },
    {
      "cell_type": "code",
      "source": [
        "# Create the HMM Model\n",
        "model = CategoricalHMM(n_components=n_states, n_iter=100, init_params=\"\")\n",
        "model.startprob_ = start_probability\n",
        "model.transmat_ = transition_probability\n",
        "model.emissionprob_ = emission_probability\n"
      ],
      "metadata": {
        "id": "wOys7HehVWTE"
      },
      "execution_count": 28,
      "outputs": []
    },
    {
      "cell_type": "code",
      "source": [
        "# Run Prediction\n",
        "# Observation sequence: Walk -> Shop -> Clean\n",
        "obs_seq = np.array([[obs_map[\"Walk\"]],\n",
        "                    [obs_map[\"Shop\"]],\n",
        "                    [obs_map[\"Clean\"]]])\n",
        "\n",
        "logprob, hidden_states = model.decode(obs_seq, algorithm=\"viterbi\")\n",
        "\n",
        "print(\"Observed activities:\", [inv_obs_map[i[0]] for i in obs_seq])\n",
        "print(\"Predicted weather sequence:\", [states[i] for i in hidden_states])\n",
        "\n"
      ],
      "metadata": {
        "colab": {
          "base_uri": "https://localhost:8080/"
        },
        "id": "lIpZNrggT1lb",
        "outputId": "9757da58-279b-425b-81b5-82dca65efac0"
      },
      "execution_count": 29,
      "outputs": [
        {
          "output_type": "stream",
          "name": "stdout",
          "text": [
            "Observed activities: ['Walk', 'Shop', 'Clean']\n",
            "Predicted weather sequence: ['Sunny', 'Rainy', 'Rainy']\n"
          ]
        }
      ]
    },
    {
      "cell_type": "markdown",
      "source": [
        "You're telling the model:\n",
        "“I saw someone walking, then shopping, then cleaning.”\n",
        "\n",
        "These are mapped to numbers using obs_map:\n",
        "\n",
        "Walk → 0, Shop → 1, Clean → 2\n",
        "So, the sequence becomes [[0], [1], [2]].\n",
        "\n",
        "// logprob, hidden_states = model.decode(obs_sequence, algorithm=\"viterbi\") //\n",
        "\n",
        "This line uses the **Viterbi algorithm** to find the most likely sequence of hidden weather states (like Rainy or Sunny) that could have caused this observed activity sequence.\n",
        "\n",
        "logprob gives the probability of that sequence (in log scale).\n",
        "\n",
        "hidden_states gives the predicted weather for each day (in index form: 0 = Rainy, 1 = Sunny).\n",
        "\n",
        "// print(\"Observed activities:\", [inv_obs_map[i[0]] for i in obs_sequence])\n",
        "print(\"Predicted weather sequence:\", [states[i] for i in hidden_states]) //\n",
        "\n",
        "Converts the observation and prediction from numbers back to readable words:\n",
        "\n",
        "Shows: ['Walk', 'Shop', 'Clean']\n",
        "\n",
        "And their most likely weather: e.g., ['Sunny', 'Rainy', 'Rainy']\n",
        "\n",
        "\n",
        "\n"
      ],
      "metadata": {
        "id": "SsDghV2GZ_EP"
      }
    }
  ]
}